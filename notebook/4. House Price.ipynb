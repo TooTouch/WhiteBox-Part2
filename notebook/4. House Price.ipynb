{
 "cells": [
  {
   "cell_type": "markdown",
   "metadata": {
    "toc": true
   },
   "source": [
    "<h1>Table of Contents<span class=\"tocSkip\"></span></h1>\n",
    "<div class=\"toc\"><ul class=\"toc-item\"><li><span><a href=\"#House-Prices:-Advanced-Regression-Techniques\" data-toc-modified-id=\"House-Prices:-Advanced-Regression-Techniques-1\">House Prices: Advanced Regression Techniques</a></span></li><li><span><a href=\"#Load-Data\" data-toc-modified-id=\"Load-Data-2\">Load Data</a></span><ul class=\"toc-item\"><li><span><a href=\"#SalePrice-Target\" data-toc-modified-id=\"SalePrice-Target-2.1\">SalePrice Target</a></span></li></ul></li><li><span><a href=\"#Preprocessing\" data-toc-modified-id=\"Preprocessing-3\">Preprocessing</a></span></li></ul></div>"
   ]
  },
  {
   "cell_type": "markdown",
   "metadata": {},
   "source": [
    "# House Prices: Advanced Regression Techniques\n",
    "\n",
    "Ask a home buyer to describe their dream house, and they probably won't begin with the height of the basement ceiling or the proximity to an east-west railroad. But this playground competition's dataset proves that much more influences price negotiations than the number of bedrooms or a white-picket fence.\n",
    "\n",
    "With 79 explanatory variables describing (almost) every aspect of residential homes in Ames, Iowa, this competition challenges you to predict the final price of each home.\n",
    "\n",
    "**Data size** : 1,460 observations and 80 features \n",
    "\n",
    "Name | Definition \n",
    ":---|:---\n",
    "SalePrice | \tthe property's sale price in dollars. This is the target variable that you're trying to predict.\n",
    "MSSubClass| \tThe building class\n",
    "MSZoning| \tThe general zoning classification\n",
    "LotFrontage\t| Linear feet of street connected to property\n",
    "LotArea| \tLot size in square feet\n",
    "Street| \tType of road access\n",
    "Alley| \tType of alley access\n",
    "LotShape|  \tGeneral shape of property\n",
    "LandContour| \tFlatness of the property\n",
    "Utilities| \tType of utilities available\n",
    "LotConfig| \tLot configuration\n",
    "LandSlope| \tSlope of property\n",
    "Neighborhood| \tPhysical locations within Ames city limits\n",
    "Condition1| \tProximity to main road or railroad\n",
    "Condition2| \tProximity to main road or railroad (if a second is present)\n",
    "BldgType| \tType of dwelling\n",
    "HouseStyle| \tStyle of dwelling\n",
    "OverallQual| \tOverall material and finish quality\n",
    "OverallCond\t| Overall condition rating\n",
    "YearBuilt| \tOriginal construction date\n",
    "YearRemodAdd| \tRemodel date\n",
    "RoofStyle\t| Type of roof\n",
    "RoofMatl| \tRoof material\n",
    "Exterior1st| \tExterior covering on house\n",
    "Exterior2nd| \tExterior covering on house (if more than one material)\n",
    "MasVnrType| \tMasonry veneer type\n",
    "MasVnrArea| \tMasonry veneer area in square feet\n",
    "ExterQual| \tExterior material quality\n",
    "ExterCond| \tPresent condition of the material on the exterior\n",
    "Foundation| \tType of foundation\n",
    "BsmtQual| \tHeight of the basement\n",
    "BsmtCond| \tGeneral condition of the basement\n",
    "BsmtExposure| \tWalkout or garden level basement walls\n",
    "BsmtFinType1| \tQuality of basement finished area\n",
    "BsmtFinSF1| \tType 1 finished square feet\n",
    "BsmtFinType2| \tQuality of second finished area (if present)\n",
    "BsmtFinSF2| \tType 2 finished square feet\n",
    "BsmtUnfSF| \tUnfinished square feet of basement area\n",
    "TotalBsmtSF\t| Total square feet of basement area\n",
    "Heating| \tType of heating\n",
    "HeatingQC| \tHeating quality and condition\n",
    "CentralAir| \tCentral air conditioning\n",
    "Electrical| \tElectrical system\n",
    "1stFlrSF| \tFirst Floor square feet\n",
    "2ndFlrSF| \tSecond floor square feet\n",
    "LowQualFinSF| \tLow quality finished square feet (all floors)\n",
    "GrLivArea| \tAbove grade (ground) living area square feet\n",
    "BsmtFullBath| \tBasement full bathrooms\n",
    "BsmtHalfBath| \tBasement half bathrooms\n",
    "FullBath| \tFull bathrooms above grade\n",
    "HalfBath| \tHalf baths above grade\n",
    "Bedroom| \tNumber of bedrooms above basement level\n",
    "Kitchen\t| Number of kitchens\n",
    "KitchenQual| \tKitchen quality\n",
    "TotRmsAbvGrd| \tTotal rooms above grade (does not include bathrooms)\n",
    "Functional| \tHome functionality rating\n",
    "Fireplaces| \tNumber of fireplaces\n",
    "FireplaceQu| \tFireplace quality\n",
    "GarageType| \tGarage location\n",
    "GarageYrBlt| \tYear garage was built\n",
    "GarageFinish| \tInterior finish of the garage\n",
    "GarageCars| \tSize of garage in car capacity\n",
    "GarageArea| \tSize of garage in square feet\n",
    "GarageQual| \tGarage quality\n",
    "GarageCond| \tGarage condition\n",
    "PavedDrive| \tPaved driveway\n",
    "WoodDeckSF| \tWood deck area in square feet\n",
    "OpenPorchSF| \tOpen porch area in square feet\n",
    "EnclosedPorch| \tEnclosed porch area in square feet\n",
    "3SsnPorch| \tThree season porch area in square feet\n",
    "ScreenPorch| \tScreen porch area in square feet\n",
    "PoolArea| \tPool area in square feet\n",
    "PoolQC| \tPool quality\n",
    "Fence| \tFence quality\n",
    "MiscFeature| \tMiscellaneous feature not covered in other categories\n",
    "MiscVal| \t$Value of miscellaneous feature\n",
    "MoSold| \tMonth Sold\n",
    "YrSold| \tYear Sold\n",
    "SaleType| \tType of sale\n",
    "SaleCondition| \tCondition of sale\n",
    "\n",
    "**Reference**\n",
    "- https://www.kaggle.com/c/house-prices-advanced-regression-techniques/overview/description"
   ]
  },
  {
   "cell_type": "code",
   "execution_count": 1,
   "metadata": {
    "ExecuteTime": {
     "end_time": "2020-03-06T08:43:58.552350Z",
     "start_time": "2020-03-06T08:43:54.631061Z"
    }
   },
   "outputs": [],
   "source": [
    "import sys \n",
    "sys.path.append('../code')\n",
    "\n",
    "from loaddata import HousePriceData\n",
    "\n",
    "import matplotlib.pyplot as plt"
   ]
  },
  {
   "cell_type": "markdown",
   "metadata": {},
   "source": [
    "# Load Data"
   ]
  },
  {
   "cell_type": "code",
   "execution_count": 2,
   "metadata": {
    "ExecuteTime": {
     "end_time": "2020-03-06T08:44:13.787710Z",
     "start_time": "2020-03-06T08:44:12.924267Z"
    }
   },
   "outputs": [],
   "source": [
    "house_dataset = HousePriceData(file_path='../dataset/house_price/')"
   ]
  },
  {
   "cell_type": "code",
   "execution_count": 3,
   "metadata": {
    "ExecuteTime": {
     "end_time": "2020-03-06T08:44:25.512302Z",
     "start_time": "2020-03-06T08:44:25.506738Z"
    }
   },
   "outputs": [
    {
     "name": "stdout",
     "output_type": "stream",
     "text": [
      "Train set: 1460 observations and 81 features\n",
      "Test set: 1459 observations and 80 features\n"
     ]
    }
   ],
   "source": [
    "train_shape = house_dataset.data.shape\n",
    "test_shape = house_dataset.testset.shape\n",
    "print(f'Train set: {train_shape[0]} observations and {train_shape[1]} features')\n",
    "print(f'Test set: {test_shape[0]} observations and {test_shape[1]} features')"
   ]
  },
  {
   "cell_type": "code",
   "execution_count": 4,
   "metadata": {
    "ExecuteTime": {
     "end_time": "2020-03-06T08:44:44.253716Z",
     "start_time": "2020-03-06T08:44:43.393194Z"
    }
   },
   "outputs": [
    {
     "data": {
      "text/html": [
       "<div>\n",
       "<style scoped>\n",
       "    .dataframe tbody tr th:only-of-type {\n",
       "        vertical-align: middle;\n",
       "    }\n",
       "\n",
       "    .dataframe tbody tr th {\n",
       "        vertical-align: top;\n",
       "    }\n",
       "\n",
       "    .dataframe thead th {\n",
       "        text-align: right;\n",
       "    }\n",
       "</style>\n",
       "<table border=\"1\" class=\"dataframe\">\n",
       "  <thead>\n",
       "    <tr style=\"text-align: right;\">\n",
       "      <th></th>\n",
       "      <th>Id</th>\n",
       "      <th>MSSubClass</th>\n",
       "      <th>MSZoning</th>\n",
       "      <th>LotFrontage</th>\n",
       "      <th>LotArea</th>\n",
       "      <th>Street</th>\n",
       "      <th>Alley</th>\n",
       "      <th>LotShape</th>\n",
       "      <th>LandContour</th>\n",
       "      <th>Utilities</th>\n",
       "      <th>...</th>\n",
       "      <th>PoolArea</th>\n",
       "      <th>PoolQC</th>\n",
       "      <th>Fence</th>\n",
       "      <th>MiscFeature</th>\n",
       "      <th>MiscVal</th>\n",
       "      <th>MoSold</th>\n",
       "      <th>YrSold</th>\n",
       "      <th>SaleType</th>\n",
       "      <th>SaleCondition</th>\n",
       "      <th>SalePrice</th>\n",
       "    </tr>\n",
       "  </thead>\n",
       "  <tbody>\n",
       "    <tr>\n",
       "      <td>0</td>\n",
       "      <td>1</td>\n",
       "      <td>60</td>\n",
       "      <td>RL</td>\n",
       "      <td>65.0</td>\n",
       "      <td>8450</td>\n",
       "      <td>Pave</td>\n",
       "      <td>NaN</td>\n",
       "      <td>Reg</td>\n",
       "      <td>Lvl</td>\n",
       "      <td>AllPub</td>\n",
       "      <td>...</td>\n",
       "      <td>0</td>\n",
       "      <td>NaN</td>\n",
       "      <td>NaN</td>\n",
       "      <td>NaN</td>\n",
       "      <td>0</td>\n",
       "      <td>2</td>\n",
       "      <td>2008</td>\n",
       "      <td>WD</td>\n",
       "      <td>Normal</td>\n",
       "      <td>208500</td>\n",
       "    </tr>\n",
       "    <tr>\n",
       "      <td>1</td>\n",
       "      <td>2</td>\n",
       "      <td>20</td>\n",
       "      <td>RL</td>\n",
       "      <td>80.0</td>\n",
       "      <td>9600</td>\n",
       "      <td>Pave</td>\n",
       "      <td>NaN</td>\n",
       "      <td>Reg</td>\n",
       "      <td>Lvl</td>\n",
       "      <td>AllPub</td>\n",
       "      <td>...</td>\n",
       "      <td>0</td>\n",
       "      <td>NaN</td>\n",
       "      <td>NaN</td>\n",
       "      <td>NaN</td>\n",
       "      <td>0</td>\n",
       "      <td>5</td>\n",
       "      <td>2007</td>\n",
       "      <td>WD</td>\n",
       "      <td>Normal</td>\n",
       "      <td>181500</td>\n",
       "    </tr>\n",
       "    <tr>\n",
       "      <td>2</td>\n",
       "      <td>3</td>\n",
       "      <td>60</td>\n",
       "      <td>RL</td>\n",
       "      <td>68.0</td>\n",
       "      <td>11250</td>\n",
       "      <td>Pave</td>\n",
       "      <td>NaN</td>\n",
       "      <td>IR1</td>\n",
       "      <td>Lvl</td>\n",
       "      <td>AllPub</td>\n",
       "      <td>...</td>\n",
       "      <td>0</td>\n",
       "      <td>NaN</td>\n",
       "      <td>NaN</td>\n",
       "      <td>NaN</td>\n",
       "      <td>0</td>\n",
       "      <td>9</td>\n",
       "      <td>2008</td>\n",
       "      <td>WD</td>\n",
       "      <td>Normal</td>\n",
       "      <td>223500</td>\n",
       "    </tr>\n",
       "    <tr>\n",
       "      <td>3</td>\n",
       "      <td>4</td>\n",
       "      <td>70</td>\n",
       "      <td>RL</td>\n",
       "      <td>60.0</td>\n",
       "      <td>9550</td>\n",
       "      <td>Pave</td>\n",
       "      <td>NaN</td>\n",
       "      <td>IR1</td>\n",
       "      <td>Lvl</td>\n",
       "      <td>AllPub</td>\n",
       "      <td>...</td>\n",
       "      <td>0</td>\n",
       "      <td>NaN</td>\n",
       "      <td>NaN</td>\n",
       "      <td>NaN</td>\n",
       "      <td>0</td>\n",
       "      <td>2</td>\n",
       "      <td>2006</td>\n",
       "      <td>WD</td>\n",
       "      <td>Abnorml</td>\n",
       "      <td>140000</td>\n",
       "    </tr>\n",
       "    <tr>\n",
       "      <td>4</td>\n",
       "      <td>5</td>\n",
       "      <td>60</td>\n",
       "      <td>RL</td>\n",
       "      <td>84.0</td>\n",
       "      <td>14260</td>\n",
       "      <td>Pave</td>\n",
       "      <td>NaN</td>\n",
       "      <td>IR1</td>\n",
       "      <td>Lvl</td>\n",
       "      <td>AllPub</td>\n",
       "      <td>...</td>\n",
       "      <td>0</td>\n",
       "      <td>NaN</td>\n",
       "      <td>NaN</td>\n",
       "      <td>NaN</td>\n",
       "      <td>0</td>\n",
       "      <td>12</td>\n",
       "      <td>2008</td>\n",
       "      <td>WD</td>\n",
       "      <td>Normal</td>\n",
       "      <td>250000</td>\n",
       "    </tr>\n",
       "  </tbody>\n",
       "</table>\n",
       "<p>5 rows × 81 columns</p>\n",
       "</div>"
      ],
      "text/plain": [
       "   Id  MSSubClass MSZoning  LotFrontage  LotArea Street Alley LotShape  \\\n",
       "0   1          60       RL         65.0     8450   Pave   NaN      Reg   \n",
       "1   2          20       RL         80.0     9600   Pave   NaN      Reg   \n",
       "2   3          60       RL         68.0    11250   Pave   NaN      IR1   \n",
       "3   4          70       RL         60.0     9550   Pave   NaN      IR1   \n",
       "4   5          60       RL         84.0    14260   Pave   NaN      IR1   \n",
       "\n",
       "  LandContour Utilities  ... PoolArea PoolQC Fence MiscFeature MiscVal MoSold  \\\n",
       "0         Lvl    AllPub  ...        0    NaN   NaN         NaN       0      2   \n",
       "1         Lvl    AllPub  ...        0    NaN   NaN         NaN       0      5   \n",
       "2         Lvl    AllPub  ...        0    NaN   NaN         NaN       0      9   \n",
       "3         Lvl    AllPub  ...        0    NaN   NaN         NaN       0      2   \n",
       "4         Lvl    AllPub  ...        0    NaN   NaN         NaN       0     12   \n",
       "\n",
       "  YrSold  SaleType  SaleCondition  SalePrice  \n",
       "0   2008        WD         Normal     208500  \n",
       "1   2007        WD         Normal     181500  \n",
       "2   2008        WD         Normal     223500  \n",
       "3   2006        WD        Abnorml     140000  \n",
       "4   2008        WD         Normal     250000  \n",
       "\n",
       "[5 rows x 81 columns]"
      ]
     },
     "execution_count": 4,
     "metadata": {},
     "output_type": "execute_result"
    }
   ],
   "source": [
    "house_dataset.data.head()"
   ]
  },
  {
   "cell_type": "markdown",
   "metadata": {},
   "source": [
    "## SalePrice Target\n",
    "\n",
    "A `SalePrice` feature shows how much the house is worth.\n",
    "\n",
    "The `SalePrice` feature shows a **right-skewd** distribution. "
   ]
  },
  {
   "cell_type": "code",
   "execution_count": 10,
   "metadata": {
    "ExecuteTime": {
     "end_time": "2020-03-06T08:47:37.200133Z",
     "start_time": "2020-03-06T08:47:37.192299Z"
    }
   },
   "outputs": [
    {
     "data": {
      "text/plain": [
       "count      1460.000000\n",
       "mean     180921.195890\n",
       "std       79442.502883\n",
       "min       34900.000000\n",
       "25%      129975.000000\n",
       "50%      163000.000000\n",
       "75%      214000.000000\n",
       "max      755000.000000\n",
       "Name: SalePrice, dtype: float64"
      ]
     },
     "execution_count": 10,
     "metadata": {},
     "output_type": "execute_result"
    }
   ],
   "source": [
    "house_dataset.data.SalePrice.describe()"
   ]
  },
  {
   "cell_type": "code",
   "execution_count": 7,
   "metadata": {
    "ExecuteTime": {
     "end_time": "2020-03-06T08:46:55.003899Z",
     "start_time": "2020-03-06T08:46:54.884864Z"
    }
   },
   "outputs": [
    {
     "data": {
      "text/plain": [
       "<matplotlib.axes._subplots.AxesSubplot at 0x7f0711d44550>"
      ]
     },
     "execution_count": 7,
     "metadata": {},
     "output_type": "execute_result"
    },
    {
     "data": {
      "image/png": "[encoded data removed]",
      "text/plain": [
       "<Figure size 432x288 with 1 Axes>"
      ]
     },
     "metadata": {
      "needs_background": "light"
     },
     "output_type": "display_data"
    }
   ],
   "source": [
    "house_dataset.data.SalePrice.plot.hist(title='Hostogram of The SalePrice Feature')"
   ]
  },
  {
   "cell_type": "markdown",
   "metadata": {},
   "source": [
    "# Preprocessing\n",
    "\n",
    "I processed train and test set in four steps. This process applied in both the train and the test set.\n",
    "\n",
    "1. Drop features that over 10% missing values.\n",
    "2. Drop features that over 10 unique values.\n",
    "3. Apply Log 1+ Transform to features that over 0.75 skewness.\n",
    "4. Dummy transform to categorical features.\n",
    "\n",
    "If you want to see this processing code, you can see in my github [code/loaddata.py](https://github.com/TooTouch/WhiteBox-Part2/blob/master/code/loaddata.py)."
   ]
  },
  {
   "cell_type": "code",
   "execution_count": 11,
   "metadata": {
    "ExecuteTime": {
     "end_time": "2020-03-06T08:53:59.639126Z",
     "start_time": "2020-03-06T08:53:59.200857Z"
    }
   },
   "outputs": [],
   "source": [
    "train, test = house_dataset.transform()\n",
    "x_train, y_train = train"
   ]
  },
  {
   "cell_type": "code",
   "execution_count": 13,
   "metadata": {
    "ExecuteTime": {
     "end_time": "2020-03-06T08:54:49.116412Z",
     "start_time": "2020-03-06T08:54:49.110971Z"
    }
   },
   "outputs": [
    {
     "name": "stdout",
     "output_type": "stream",
     "text": [
      "pre-Train set: 1460 observations and 213 features\n",
      "pre-Test set: 1459 observations and 213 features\n"
     ]
    }
   ],
   "source": [
    "pretrain_shape = x_train.shape\n",
    "pretest_shape = test.shape\n",
    "print(f'pre-Train set: {pretrain_shape[0]} observations and {pretrain_shape[1]} features')\n",
    "print(f'pre-Test set: {pretest_shape[0]} observations and {pretest_shape[1]} features')"
   ]
  }
 ],
 "metadata": {
  "hide_input": false,
  "kernelspec": {
   "display_name": "Python 3",
   "language": "python",
   "name": "python3"
  },
  "language_info": {
   "codemirror_mode": {
    "name": "ipython",
    "version": 3
   },
   "file_extension": ".py",
   "mimetype": "text/x-python",
   "name": "python",
   "nbconvert_exporter": "python",
   "pygments_lexer": "ipython3",
   "version": "3.7.4"
  },
  "toc": {
   "base_numbering": 1,
   "nav_menu": {},
   "number_sections": false,
   "sideBar": true,
   "skip_h1_title": false,
   "title_cell": "Table of Contents",
   "title_sidebar": "Contents",
   "toc_cell": true,
   "toc_position": {},
   "toc_section_display": true,
   "toc_window_display": true
  },
  "varInspector": {
   "cols": {
    "lenName": 16,
    "lenType": 16,
    "lenVar": 40
   },
   "kernels_config": {
    "python": {
     "delete_cmd_postfix": "",
     "delete_cmd_prefix": "del ",
     "library": "var_list.py",
     "varRefreshCmd": "print(var_dic_list())"
    },
    "r": {
     "delete_cmd_postfix": ") ",
     "delete_cmd_prefix": "rm(",
     "library": "var_list.r",
     "varRefreshCmd": "cat(var_dic_list()) "
    }
   },
   "types_to_exclude": [
    "module",
    "function",
    "builtin_function_or_method",
    "instance",
    "_Feature"
   ],
   "window_display": false
  }
 },
 "nbformat": 4,
 "nbformat_minor": 2
}
